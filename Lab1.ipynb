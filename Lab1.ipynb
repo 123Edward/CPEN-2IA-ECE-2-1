{
  "nbformat": 4,
  "nbformat_minor": 0,
  "metadata": {
    "colab": {
      "name": "Untitled0.ipynb",
      "provenance": [],
      "authorship_tag": "ABX9TyPrvg8XmMN5bIDtySyJoFWY",
      "include_colab_link": true
    },
    "kernelspec": {
      "name": "python3",
      "display_name": "Python 3"
    },
    "language_info": {
      "name": "python"
    }
  },
  "cells": [
    {
      "cell_type": "markdown",
      "metadata": {
        "id": "view-in-github",
        "colab_type": "text"
      },
      "source": [
        "<a href=\"https://colab.research.google.com/github/123Edward/CPEN-2IA-ECE-2-1/blob/main/Lab1.ipynb\" target=\"_parent\"><img src=\"https://colab.research.google.com/assets/colab-badge.svg\" alt=\"Open In Colab\"/></a>"
      ]
    },
    {
      "cell_type": "markdown",
      "metadata": {
        "id": "KFNghGy-q-W3"
      },
      "source": [
        "#Laboratory 1"
      ]
    },
    {
      "cell_type": "code",
      "metadata": {
        "colab": {
          "base_uri": "https://localhost:8080/"
        },
        "id": "HEPg_hbjrIsc",
        "outputId": "2e16604a-709b-4385-ddfd-aa21f8955681"
      },
      "source": [
        "title=\"Welcome to Phyton Programming\"\n",
        "name=\"Edwardo Gillo Matabang\"\n",
        "address=\"Purok 21, Brgy. Dap-dap West, Tagaytay City, Cavite\"\n",
        "age=\"20 years old\"\n",
        "print(title)\n",
        "print(name)\n",
        "print(address)\n",
        "print(age)"
      ],
      "execution_count": null,
      "outputs": [
        {
          "output_type": "stream",
          "name": "stdout",
          "text": [
            "Welcome to Phyton Programming\n",
            "Edwardo Gillo Matabang\n",
            "Purok 21, Brgy. Dap-dap West, Tagaytay City, Cavite\n",
            "20 years old\n"
          ]
        }
      ]
    }
  ]
}