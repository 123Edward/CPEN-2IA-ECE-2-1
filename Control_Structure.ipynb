{
  "nbformat": 4,
  "nbformat_minor": 0,
  "metadata": {
    "colab": {
      "name": "Control Structure.ipynb",
      "provenance": [],
      "collapsed_sections": [],
      "authorship_tag": "ABX9TyMsQA/Tk5f3+rInSj/YyqqQ",
      "include_colab_link": true
    },
    "kernelspec": {
      "name": "python3",
      "display_name": "Python 3"
    },
    "language_info": {
      "name": "python"
    }
  },
  "cells": [
    {
      "cell_type": "markdown",
      "metadata": {
        "id": "view-in-github",
        "colab_type": "text"
      },
      "source": [
        "<a href=\"https://colab.research.google.com/github/123Edward/CPEN-2IA-ECE-2-1/blob/main/Control_Structure.ipynb\" target=\"_parent\"><img src=\"https://colab.research.google.com/assets/colab-badge.svg\" alt=\"Open In Colab\"/></a>"
      ]
    },
    {
      "cell_type": "markdown",
      "metadata": {
        "id": "qWTPtbt3LtKt"
      },
      "source": [
        "## If statement"
      ]
    },
    {
      "cell_type": "code",
      "metadata": {
        "colab": {
          "base_uri": "https://localhost:8080/"
        },
        "id": "accbAF-o6OTc",
        "outputId": "c962562c-2396-490b-fa07-2188e4a05bcc"
      },
      "source": [
        "a=12\n",
        "b=100\n",
        "if b>a:\n",
        "  print(\"b is greater than a\")"
      ],
      "execution_count": null,
      "outputs": [
        {
          "output_type": "stream",
          "name": "stdout",
          "text": [
            "b is greater than a\n"
          ]
        }
      ]
    },
    {
      "cell_type": "markdown",
      "metadata": {
        "id": "BJ6Mgo_gLubJ"
      },
      "source": [
        "## Elif statement"
      ]
    },
    {
      "cell_type": "code",
      "metadata": {
        "colab": {
          "base_uri": "https://localhost:8080/"
        },
        "id": "Da-6ZwRjLu4R",
        "outputId": "acc06bad-dd38-4e90-c8fb-a23c22cfe70a"
      },
      "source": [
        "a=12\n",
        "b=13\n",
        "if b>a:\n",
        "  print(\"b is greater than a\")\n",
        "elif b==a:\n",
        "  print(\"b is equal to a\")"
      ],
      "execution_count": null,
      "outputs": [
        {
          "output_type": "stream",
          "name": "stdout",
          "text": [
            "b is greater than a\n"
          ]
        }
      ]
    },
    {
      "cell_type": "markdown",
      "metadata": {
        "id": "fNna7wU-LvPj"
      },
      "source": [
        "## Else statement"
      ]
    },
    {
      "cell_type": "code",
      "metadata": {
        "colab": {
          "base_uri": "https://localhost:8080/"
        },
        "id": "u0-KKKg0Lvlx",
        "outputId": "2482b62f-aee8-4ddb-ad2e-1f42cb861e21"
      },
      "source": [
        "a=30\n",
        "b=30\n",
        "if a>b:\n",
        "  print(\"a is greater than b\")\n",
        "elif b>a:\n",
        "  print(\"b is greater than a\")\n",
        "else:\n",
        "  print(\"a is equal to b\")"
      ],
      "execution_count": null,
      "outputs": [
        {
          "output_type": "stream",
          "name": "stdout",
          "text": [
            "a is equal to b\n"
          ]
        }
      ]
    },
    {
      "cell_type": "markdown",
      "metadata": {
        "id": "iCSf7NX4Lv98"
      },
      "source": [
        "## Short Hand If Statement"
      ]
    },
    {
      "cell_type": "code",
      "metadata": {
        "colab": {
          "base_uri": "https://localhost:8080/"
        },
        "id": "ypfozmalLwTV",
        "outputId": "405e4dd3-0b88-4d8e-a5f1-8031a33ae0b3"
      },
      "source": [
        "a=12\n",
        "b=6\n",
        "if a>b:\n",
        "  print(\"a is greater than b\")"
      ],
      "execution_count": null,
      "outputs": [
        {
          "output_type": "stream",
          "name": "stdout",
          "text": [
            "a is greater than b\n"
          ]
        }
      ]
    },
    {
      "cell_type": "markdown",
      "metadata": {
        "id": "M0KgEnYLLwjq"
      },
      "source": [
        "## Short Hand If...Else Statement"
      ]
    },
    {
      "cell_type": "code",
      "metadata": {
        "colab": {
          "base_uri": "https://localhost:8080/"
        },
        "id": "h59ZGpsjLw7O",
        "outputId": "77f6463a-d78c-4457-f93b-618d98d15ee0"
      },
      "source": [
        "a=7\n",
        "b=14\n",
        "print(\"a is greater than b\") if a>b else print(\"b is greater than a\")"
      ],
      "execution_count": null,
      "outputs": [
        {
          "output_type": "stream",
          "name": "stdout",
          "text": [
            "b is greater than a\n"
          ]
        }
      ]
    },
    {
      "cell_type": "markdown",
      "metadata": {
        "id": "FHday0lCLxL5"
      },
      "source": [
        "## And logical condtition"
      ]
    },
    {
      "cell_type": "code",
      "metadata": {
        "id": "GpIQLrKlLx84"
      },
      "source": [
        "a=200\n",
        "b=300\n",
        "c=500\n",
        "if a>b and c>a:\n",
        "  print(\"Both conditions are True\")\n",
        "else:\n",
        "  print(\"Evaluated as False\")"
      ],
      "execution_count": null,
      "outputs": []
    },
    {
      "cell_type": "markdown",
      "metadata": {
        "id": "4w6n12ZqL-Kk"
      },
      "source": [
        "## Or logical condition"
      ]
    },
    {
      "cell_type": "code",
      "metadata": {
        "id": "-RVEKuWNL-eS"
      },
      "source": [
        "a=200\n",
        "b=300\n",
        "c=500\n",
        "if a>b or c>a:\n",
        "  print(\"Evaluated as True\")\n",
        "else:\n",
        "  print(\"Evaluated as False\")"
      ],
      "execution_count": null,
      "outputs": []
    },
    {
      "cell_type": "markdown",
      "metadata": {
        "id": "PIr8oEZiL-y6"
      },
      "source": [
        "## Nested If...Else Statement"
      ]
    },
    {
      "cell_type": "code",
      "metadata": {
        "id": "uYZYckhvL_LJ"
      },
      "source": [
        "x=20\n",
        "\n",
        "if x>10:\n",
        "  print(\"Above ten\")\n",
        "  if x>20:\n",
        "    print(\"Above twenty\")\n",
        "  else:\n",
        "    print(\"Above ten but Not above twenty\")\n",
        "else:\n",
        "  print(\"Not above ten\")"
      ],
      "execution_count": null,
      "outputs": []
    },
    {
      "cell_type": "markdown",
      "metadata": {
        "id": "-ZfWRsipL_jw"
      },
      "source": [
        "## Example 1"
      ]
    },
    {
      "cell_type": "code",
      "metadata": {
        "id": "ozwMfaIrL_5A"
      },
      "source": [
        "# The  qualifying Age to vote\n",
        "\n",
        "age=int(input(\"Enter your Age:\"))\n",
        "if age>=18:\n",
        "  print(\"You are qualified to vote\")\n",
        "else:\n",
        "  print(\"You are not qualified to vote\")"
      ],
      "execution_count": null,
      "outputs": []
    },
    {
      "cell_type": "markdown",
      "metadata": {
        "id": "n7ohG0N4MNY2"
      },
      "source": [
        "## Example 2"
      ]
    },
    {
      "cell_type": "code",
      "metadata": {
        "id": "CuxaJcCJMNv7"
      },
      "source": [
        "num=int(input(\"Enter the number:\"))\n",
        "if num==0:\n",
        "  print(\"Zero\")\n",
        "elif num>0:\n",
        "  print(\"Positive\")\n",
        "else:\n",
        "  print(\"Negative\")"
      ],
      "execution_count": null,
      "outputs": []
    },
    {
      "cell_type": "markdown",
      "metadata": {
        "id": "BN-rJ6qHMODC"
      },
      "source": [
        "## Example 3"
      ]
    },
    {
      "cell_type": "code",
      "metadata": {
        "id": "KxTsxQCEMOd1"
      },
      "source": [
        "Grade=float(input(\"Enter your grade:\"))\n",
        "\n",
        "\n",
        "if Grade>=75:\n",
        "  print(\"Passed\")\n",
        "elif Grade<74:\n",
        "  print(\"Failed\")\n",
        "else:\n",
        "  print(\"Remedial\")"
      ],
      "execution_count": null,
      "outputs": []
    }
  ]
}