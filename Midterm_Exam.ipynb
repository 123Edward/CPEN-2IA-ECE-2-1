{
  "nbformat": 4,
  "nbformat_minor": 0,
  "metadata": {
    "colab": {
      "name": "Midterm Exam.ipynb",
      "provenance": [],
      "authorship_tag": "ABX9TyPpBvpKGnFoNkWxiblmCAYq",
      "include_colab_link": true
    },
    "kernelspec": {
      "name": "python3",
      "display_name": "Python 3"
    },
    "language_info": {
      "name": "python"
    }
  },
  "cells": [
    {
      "cell_type": "markdown",
      "metadata": {
        "id": "view-in-github",
        "colab_type": "text"
      },
      "source": [
        "<a href=\"https://colab.research.google.com/github/123Edward/CPEN-2IA-ECE-2-1/blob/main/Midterm_Exam.ipynb\" target=\"_parent\"><img src=\"https://colab.research.google.com/assets/colab-badge.svg\" alt=\"Open In Colab\"/></a>"
      ]
    },
    {
      "cell_type": "markdown",
      "metadata": {
        "id": "v6UuWs-G3DCv"
      },
      "source": [
        "#Midterm Exam"
      ]
    },
    {
      "cell_type": "markdown",
      "metadata": {
        "id": "ayYJRbUxCL9a"
      },
      "source": [
        "##Problem Statement 1"
      ]
    },
    {
      "cell_type": "code",
      "metadata": {
        "colab": {
          "base_uri": "https://localhost:8080/"
        },
        "id": "Rl07AbQt3ce_",
        "outputId": "46a62c1a-599c-478b-a2e5-99cb398a5ca8"
      },
      "source": [
        "a=\"Edwardo G. Matabang\"\n",
        "b=\"202012046\"\n",
        "c=\"20 years old\"\n",
        "d=\"March 09, 2001\"\n",
        "e=\"Purok 21, Dap-dap West, Tagaytay City, Cavite\"\n",
        "f=\"Bachelor of Science in Electronics and Communication Engineering\"\n",
        "g=\"1.6\"\n",
        "\n",
        "print(a)\n",
        "print(b)\n",
        "print(c)\n",
        "print(d)\n",
        "print(e)\n",
        "print(f)\n",
        "print(g)"
      ],
      "execution_count": 1,
      "outputs": [
        {
          "output_type": "stream",
          "name": "stdout",
          "text": [
            "Edwardo G. Matabang\n",
            "202012046\n",
            "20 years old\n",
            "March 09, 2001\n",
            "Purok 21, Dap-dap West, Tagaytay City, Cavite\n",
            "Bachelor of Science in Electronics and Communication Engineering\n",
            "1.6\n"
          ]
        }
      ]
    },
    {
      "cell_type": "markdown",
      "metadata": {
        "id": "9VOVdla1CS4a"
      },
      "source": [
        "##Problem Statement 2"
      ]
    },
    {
      "cell_type": "code",
      "metadata": {
        "colab": {
          "base_uri": "https://localhost:8080/"
        },
        "id": "DAY7Xe0L6qdh",
        "outputId": "269fbe5b-084d-4297-d206-04aeaeb1568e"
      },
      "source": [
        "n=4\n",
        "answ= \"Y\"\n",
        "\n",
        "a=(2<n) and (n<6)\n",
        "b=(2<n) or (n==6)\n",
        "c= not (2<n) or (n==6)\n",
        "d= not (n<6)\n",
        "e=(answ==\"Y\") or (answ==\"y\")\n",
        "f=(answ==\"Y\") and (answ==\"y\")\n",
        "g= not (answ==\"y\")\n",
        "h= ((2<n) and (n==5+1)) or (answ==\"no\")\n",
        "i=((n==2) and (n==7)) or (answ==\"Y\")\n",
        "j=(n==2) and ((n==7) or (answ==\"Y\"))\n",
        "\n",
        "\n",
        "print(a)\n",
        "print(b)\n",
        "print(c)\n",
        "print(d)\n",
        "print(e)\n",
        "print(f)\n",
        "print(g)\n",
        "print(h)\n",
        "print(i)\n",
        "print(j)\n"
      ],
      "execution_count": 54,
      "outputs": [
        {
          "output_type": "stream",
          "name": "stdout",
          "text": [
            "True\n",
            "True\n",
            "False\n",
            "False\n",
            "True\n",
            "False\n",
            "True\n",
            "False\n",
            "True\n",
            "False\n"
          ]
        }
      ]
    },
    {
      "cell_type": "markdown",
      "metadata": {
        "id": "ND26LqAACX5z"
      },
      "source": [
        "##Problem Statement 3"
      ]
    },
    {
      "cell_type": "code",
      "metadata": {
        "colab": {
          "base_uri": "https://localhost:8080/"
        },
        "id": "Vcgq4HVgCcML",
        "outputId": "a90a9de1-0a83-49da-95f2-bc7fa763c461"
      },
      "source": [
        "x=2\n",
        "y=-3\n",
        "w=7\n",
        "z=-10\n",
        "\n",
        "print(x/y)\n",
        "print(w/y/x)\n",
        "print(z/y%x)\n",
        "print(x%-y*w)\n",
        "print(x%y)\n",
        "print(z%w-y/x*5+5)\n",
        "print(9-x%(2+y))\n",
        "print(z//w)\n",
        "print((2+y)**2)\n",
        "print(w/x*2)"
      ],
      "execution_count": 41,
      "outputs": [
        {
          "output_type": "stream",
          "name": "stdout",
          "text": [
            "-0.6666666666666666\n",
            "-1.1666666666666667\n",
            "1.3333333333333335\n",
            "14\n",
            "-1\n",
            "16.5\n",
            "9\n",
            "-2\n",
            "1\n",
            "7.0\n"
          ]
        }
      ]
    }
  ]
}