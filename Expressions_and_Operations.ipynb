{
  "nbformat": 4,
  "nbformat_minor": 0,
  "metadata": {
    "colab": {
      "name": "Expressions and Operations.ipynb",
      "provenance": [],
      "authorship_tag": "ABX9TyMoJ57Z8Imtopfjub2oIJnu",
      "include_colab_link": true
    },
    "kernelspec": {
      "name": "python3",
      "display_name": "Python 3"
    },
    "language_info": {
      "name": "python"
    }
  },
  "cells": [
    {
      "cell_type": "markdown",
      "metadata": {
        "id": "view-in-github",
        "colab_type": "text"
      },
      "source": [
        "<a href=\"https://colab.research.google.com/github/123Edward/CPEN-2IA-ECE-2-1/blob/main/Expressions_and_Operations.ipynb\" target=\"_parent\"><img src=\"https://colab.research.google.com/assets/colab-badge.svg\" alt=\"Open In Colab\"/></a>"
      ]
    },
    {
      "cell_type": "markdown",
      "metadata": {
        "id": "kAdPmReX3qeR"
      },
      "source": [
        "##Boolean Operator"
      ]
    },
    {
      "cell_type": "code",
      "metadata": {
        "colab": {
          "base_uri": "https://localhost:8080/"
        },
        "id": "vTelIfCz31aa",
        "outputId": "8bdda171-6303-4d0b-fafe-bb68a3064694"
      },
      "source": [
        "x=1\n",
        "y=2\n",
        "\n",
        "print(x>y)\n",
        "print(10>11)\n",
        "print(10==10)\n",
        "print(10!=10)"
      ],
      "execution_count": 5,
      "outputs": [
        {
          "output_type": "stream",
          "name": "stdout",
          "text": [
            "False\n",
            "False\n",
            "True\n",
            "False\n"
          ]
        }
      ]
    },
    {
      "cell_type": "code",
      "metadata": {
        "colab": {
          "base_uri": "https://localhost:8080/"
        },
        "id": "1U9lHjHK41zW",
        "outputId": "4eccb78c-9b16-4deb-b2f9-ed0bae1da0e0"
      },
      "source": [
        "#using boool() function\n",
        "\n",
        "print(bool(\"Hello\"))\n",
        "print(bool(15))\n",
        "\n",
        "print(bool(True))\n",
        "print(bool(False))\n",
        "print(bool(None))\n",
        "print(bool(0))\n",
        "print(bool([]))"
      ],
      "execution_count": 13,
      "outputs": [
        {
          "output_type": "stream",
          "name": "stdout",
          "text": [
            "True\n",
            "True\n",
            "True\n",
            "False\n",
            "False\n",
            "False\n",
            "False\n"
          ]
        }
      ]
    },
    {
      "cell_type": "markdown",
      "metadata": {
        "id": "TLjZT4pC5Yxp"
      },
      "source": [
        "##Functrion can Return Boolean"
      ]
    },
    {
      "cell_type": "code",
      "metadata": {
        "colab": {
          "base_uri": "https://localhost:8080/"
        },
        "id": "Xry7UfHQ5ilF",
        "outputId": "8f0055ae-88be-43b5-e408-c2dc835f8ec6"
      },
      "source": [
        "def yourFunction(): return False\n",
        "\n",
        "if yourFunction():\n",
        "  print(\"Yes\")\n",
        "else:\n",
        "  print(\"No\")"
      ],
      "execution_count": 19,
      "outputs": [
        {
          "output_type": "stream",
          "name": "stdout",
          "text": [
            "No\n"
          ]
        }
      ]
    },
    {
      "cell_type": "code",
      "metadata": {
        "colab": {
          "base_uri": "https://localhost:8080/"
        },
        "id": "TYof1a4U58eb",
        "outputId": "073748f7-4f27-45fd-b69f-95ae6d8a3359"
      },
      "source": [
        "def myfunction(): return True\n",
        "\n",
        "print(myfunction())"
      ],
      "execution_count": 8,
      "outputs": [
        {
          "output_type": "stream",
          "name": "stdout",
          "text": [
            "True\n"
          ]
        }
      ]
    },
    {
      "cell_type": "markdown",
      "metadata": {
        "id": "bX3FB6lL6SR2"
      },
      "source": [
        "###You Try"
      ]
    },
    {
      "cell_type": "code",
      "metadata": {
        "colab": {
          "base_uri": "https://localhost:8080/"
        },
        "id": "T2LXk2T_6VKg",
        "outputId": "7d20f568-8b68-439b-b0f7-ddc3be627765"
      },
      "source": [
        "a=6\n",
        "b=7\n",
        "print(a==b)\n",
        "print(a!=a)\n"
      ],
      "execution_count": 21,
      "outputs": [
        {
          "output_type": "stream",
          "name": "stdout",
          "text": [
            "False\n",
            "False\n"
          ]
        }
      ]
    },
    {
      "cell_type": "markdown",
      "metadata": {
        "id": "pcEbdBkX8Xlu"
      },
      "source": [
        "###Aritmetic Operators"
      ]
    },
    {
      "cell_type": "code",
      "metadata": {
        "colab": {
          "base_uri": "https://localhost:8080/"
        },
        "id": "00aTqhCB8ezv",
        "outputId": "08a22bd5-50f0-4095-ca67-cab521acf239"
      },
      "source": [
        "print(10+5)\n",
        "print(10-5)\n",
        "print(10*5)\n",
        "print(10/5)\n",
        "print(10%5) #modulo division, remainder\n",
        "print(10//5) #floor division\n",
        "print(10//3) #floor division\n",
        "print(10//3) #3 x 1 = 9 + 1"
      ],
      "execution_count": 29,
      "outputs": [
        {
          "output_type": "stream",
          "name": "stdout",
          "text": [
            "15\n",
            "5\n",
            "50\n",
            "2.0\n",
            "0\n",
            "2\n",
            "3\n",
            "3\n"
          ]
        }
      ]
    },
    {
      "cell_type": "markdown",
      "metadata": {
        "id": "ZbL4lE0l-VDq"
      },
      "source": [
        "###Bitwise Operators"
      ]
    },
    {
      "cell_type": "code",
      "metadata": {
        "colab": {
          "base_uri": "https://localhost:8080/"
        },
        "id": "qDzQWymf8e1F",
        "outputId": "5f232940-ff68-4170-d385-1f3a9d72ed0b"
      },
      "source": [
        "a=60 #0011 1100\n",
        "b=13 #0000 1101\n",
        "\n",
        "print(a&b)\n",
        "print(a|b)\n",
        "print(a^b)\n",
        "print(-a)\n",
        "print(a<<1) #0111 1000\n",
        "print(a<<2) #1111 0000\n",
        "print(b>>1) #1 0000 0110\n",
        "print(b>>2) #0000 0110 carry flag bit = 01"
      ],
      "execution_count": 90,
      "outputs": [
        {
          "output_type": "stream",
          "name": "stdout",
          "text": [
            "12\n",
            "61\n",
            "49\n",
            "-60\n",
            "120\n",
            "240\n",
            "6\n",
            "3\n"
          ]
        }
      ]
    },
    {
      "cell_type": "markdown",
      "metadata": {
        "id": "Ezd4qGsFBym5"
      },
      "source": [
        "###Phyton Assignment Operators"
      ]
    },
    {
      "cell_type": "code",
      "metadata": {
        "colab": {
          "base_uri": "https://localhost:8080/"
        },
        "id": "4aZ03qWNB5lS",
        "outputId": "a8c9751c-c307-49f8-c616-b80f4ee57e99"
      },
      "source": [
        "a+=3 # Same As a = a + 3\n",
        "     # Same As a = 60 + 3, a = 63\n",
        "\n",
        "print(a)"
      ],
      "execution_count": 91,
      "outputs": [
        {
          "output_type": "stream",
          "name": "stdout",
          "text": [
            "63\n"
          ]
        }
      ]
    },
    {
      "cell_type": "markdown",
      "metadata": {
        "id": "o8-9rmeBCb6S"
      },
      "source": [
        "###Logical Operators"
      ]
    },
    {
      "cell_type": "code",
      "metadata": {
        "colab": {
          "base_uri": "https://localhost:8080/"
        },
        "id": "GifGiVfzCezU",
        "outputId": "59740c0c-d7ff-4173-b29e-d7effb22aa05"
      },
      "source": [
        "a=True\n",
        "b=False\n",
        "\n",
        "print(a and b)\n",
        "print(not(a and b))\n",
        "print(a or b)\n",
        "print(not(a or b))"
      ],
      "execution_count": 61,
      "outputs": [
        {
          "output_type": "stream",
          "name": "stdout",
          "text": [
            "False\n",
            "True\n",
            "True\n",
            "False\n"
          ]
        }
      ]
    }
  ]
}