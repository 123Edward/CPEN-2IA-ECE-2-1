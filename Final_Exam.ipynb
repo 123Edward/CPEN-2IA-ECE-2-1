{
  "nbformat": 4,
  "nbformat_minor": 0,
  "metadata": {
    "colab": {
      "name": "Final Exam.ipynb",
      "provenance": [],
      "authorship_tag": "ABX9TyMmSVBqwJ+fWPRApI9eS54e",
      "include_colab_link": true
    },
    "kernelspec": {
      "name": "python3",
      "display_name": "Python 3"
    },
    "language_info": {
      "name": "python"
    }
  },
  "cells": [
    {
      "cell_type": "markdown",
      "metadata": {
        "id": "view-in-github",
        "colab_type": "text"
      },
      "source": [
        "<a href=\"https://colab.research.google.com/github/123Edward/CPEN-2IA-ECE-2-1/blob/main/Final_Exam.ipynb\" target=\"_parent\"><img src=\"https://colab.research.google.com/assets/colab-badge.svg\" alt=\"Open In Colab\"/></a>"
      ]
    },
    {
      "cell_type": "markdown",
      "source": [
        "##Final Exam"
      ],
      "metadata": {
        "id": "Memw82xg_kOb"
      }
    },
    {
      "cell_type": "markdown",
      "source": [
        "###Problem Statemen 1"
      ],
      "metadata": {
        "id": "X8XD9QRxADbS"
      }
    },
    {
      "cell_type": "code",
      "source": [
        "n=[]\n",
        "x=0\n",
        "for x in range(1,11):\n",
        "  while True:\n",
        "    y=float(input(\"Enter number:\"))\n",
        "    if y<5:\n",
        "     break\n",
        "    else:\n",
        "     print(\"Please input numbers that are less than 5\")\n",
        "  n.append(y)\n",
        "  x=x+1\n",
        "\n",
        "x=0\n",
        "summation=0\n",
        "print(\"The numbers you have entered are:\",n)\n",
        "print(\"\")\n",
        "for x in n:\n",
        "  if x<5:\n",
        "    summation=summation+x\n",
        "print(\"The summation of all numbers that are less than 5 are equals to\",summation)"
      ],
      "metadata": {
        "colab": {
          "base_uri": "https://localhost:8080/"
        },
        "id": "QSt1o3CbAIoK",
        "outputId": "64ecd0bc-7b2f-4271-a9c6-f430ff9e993e"
      },
      "execution_count": 9,
      "outputs": [
        {
          "output_type": "stream",
          "name": "stdout",
          "text": [
            "Enter number:5\n",
            "Please input numbers that are less than 5\n",
            "Enter number:4\n",
            "Enter number:3\n",
            "Enter number:2\n",
            "Enter number:1\n",
            "Enter number:8\n",
            "Please input numbers that are less than 5\n",
            "Enter number:2\n",
            "Enter number:1\n",
            "Enter number:2\n",
            "Enter number:1\n",
            "Enter number:4\n",
            "Enter number:5\n",
            "Please input numbers that are less than 5\n",
            "Enter number:4\n",
            "The numbers you have entered are: [4.0, 3.0, 2.0, 1.0, 2.0, 1.0, 2.0, 1.0, 4.0, 4.0]\n",
            "\n",
            "The summation of all numbers that are less than 5 are equals to 24.0\n"
          ]
        }
      ]
    },
    {
      "cell_type": "markdown",
      "source": [
        "###Problem Statement 2"
      ],
      "metadata": {
        "id": "jV7JDrQgCeEs"
      }
    },
    {
      "cell_type": "code",
      "source": [
        "n=1;\n",
        "data={};\n",
        "while(n <=5):\n",
        "  i = str(n);\n",
        "  data[n] = input(\"Enter Number:\")\n",
        "  print(\"Value for Number \"+ i +\" is \"+ data[n])\n",
        "  n+=1\n",
        "  if(n==6):\n",
        "    sum=float(data[1])+float(data[5])\n",
        "print(\"The sum of the first and last number is: \" + str(sum))"
      ],
      "metadata": {
        "colab": {
          "base_uri": "https://localhost:8080/"
        },
        "id": "iIvWdxpFCiIs",
        "outputId": "7cae73f8-d1a7-4dea-bef3-eee62e6803d6"
      },
      "execution_count": 10,
      "outputs": [
        {
          "output_type": "stream",
          "name": "stdout",
          "text": [
            "Enter Number:1\n",
            "Value for Number 1 is 1\n",
            "Enter Number:100\n",
            "Value for Number 2 is 100\n",
            "Enter Number:3\n",
            "Value for Number 3 is 3\n",
            "Enter Number:2\n",
            "Value for Number 4 is 2\n",
            "Enter Number:13\n",
            "Value for Number 5 is 13\n",
            "The sum of the first and last number is: 14.0\n"
          ]
        }
      ]
    },
    {
      "cell_type": "markdown",
      "source": [
        "###Problem Statement 3"
      ],
      "metadata": {
        "id": "1oUXV4a0ElzG"
      }
    },
    {
      "cell_type": "code",
      "source": [
        "\n",
        "grade=float(input(\"Please Enter your grade:\"))\n",
        "if grade >=90:print(\"A\")\n",
        "else:\n",
        "    if grade >=80:print(\"B\")\n",
        "    elif grade >=70:print(\"C\")\n",
        "    elif grade >=60:print(\"D\")\n",
        "    else:print(\"F\")"
      ],
      "metadata": {
        "colab": {
          "base_uri": "https://localhost:8080/"
        },
        "id": "9HnFVGzfEpw9",
        "outputId": "8fb7c6af-4c67-4f58-99df-5ede53124186"
      },
      "execution_count": 11,
      "outputs": [
        {
          "output_type": "stream",
          "name": "stdout",
          "text": [
            "Please Enter your grade:79\n",
            "C\n"
          ]
        }
      ]
    }
  ]
}